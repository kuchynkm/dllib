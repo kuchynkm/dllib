{
 "cells": [
  {
   "cell_type": "markdown",
   "id": "142e6f3a",
   "metadata": {},
   "source": [
    "# DLlib neural network example: regression problem"
   ]
  },
  {
   "cell_type": "code",
   "execution_count": 1,
   "id": "977f6478",
   "metadata": {},
   "outputs": [],
   "source": [
    "%load_ext autoreload\n",
    "%autoreload 2"
   ]
  },
  {
   "cell_type": "code",
   "execution_count": 2,
   "id": "bb90e64d",
   "metadata": {},
   "outputs": [],
   "source": [
    "import numpy as np\n",
    "import pandas as pd\n",
    "from sklearn.linear_model import LinearRegression\n",
    "from sklearn.datasets import make_regression\n",
    "import matplotlib.pyplot as plt\n",
    "\n",
    "from dllib.metrics.regression import MeanSquaredError\n",
    "from dllib.layers import Linear, Sigmoid, ReLu\n",
    "from dllib.model import SequentialNN\n",
    "from dllib.optimizers import SGD\n",
    "from examples.backend import fit_and_evaluate, DataCatalogue, ModelType, SklearnRegressionWrapper"
   ]
  },
  {
   "cell_type": "markdown",
   "id": "9d1cb4f1",
   "metadata": {},
   "source": [
    "## Linear problem"
   ]
  },
  {
   "cell_type": "code",
   "execution_count": 3,
   "id": "70f3ccb1",
   "metadata": {},
   "outputs": [],
   "source": [
    "from sklearn.model_selection import train_test_split\n",
    "\n",
    "DATA_SETTINGS = {\n",
    "    \"n_samples\": 100,\n",
    "    \"n_features\": 3,\n",
    "    \"n_informative\": 2,\n",
    "    \"n_targets\": 1,\n",
    "    \"bias\": 0.0,\n",
    "    \"noise\": 10,\n",
    "}\n",
    "\n",
    "X, y = make_regression(**DATA_SETTINGS)\n",
    "X_train, X_test, y_train, y_test = train_test_split(X, y, test_size=0.25, shuffle=True)\n",
    "\n",
    "dataset = DataCatalogue(\n",
    "    model_type=ModelType.REGRESSION,\n",
    "    train={\"X\": X_train, \"y\": y_train},\n",
    "    test={\"X\": X_test, \"y\": y_test},\n",
    ")"
   ]
  },
  {
   "cell_type": "markdown",
   "id": "5404f91c",
   "metadata": {},
   "source": [
    "### Logistic regression"
   ]
  },
  {
   "cell_type": "code",
   "execution_count": 4,
   "id": "331b443d",
   "metadata": {},
   "outputs": [],
   "source": [
    "evaluation = {}\n",
    "\n",
    "linear_regression_results = fit_and_evaluate(\n",
    "    LinearRegression(), \n",
    "    dataset,\n",
    ")\n",
    "evaluation.update(linear_regression=linear_regression_results)"
   ]
  },
  {
   "cell_type": "markdown",
   "id": "c6bbde20",
   "metadata": {},
   "source": [
    "### Dllib Neural network"
   ]
  },
  {
   "cell_type": "code",
   "execution_count": 5,
   "id": "4dbb1858",
   "metadata": {},
   "outputs": [],
   "source": [
    "nn = SequentialNN(\n",
    "    layers=[\n",
    "        Linear(input_size=X.shape[1], output_size=1),\n",
    "    ],\n",
    "    loss=MeanSquaredError(),\n",
    "    optimizer=SGD(learning_rate=1e-2)\n",
    ")\n",
    "\n",
    "dataset = DataCatalogue(\n",
    "    model_type=ModelType.REGRESSION,\n",
    "    train={\"X\": X_train, \"y\": y_train},\n",
    "    test={\"X\": X_test, \"y\": y_test},\n",
    ")\n",
    "\n",
    "neural_network_results = fit_and_evaluate(\n",
    "    SklearnRegressionWrapper(nn), \n",
    "    dataset, \n",
    "    estimator__epochs=500,\n",
    "    estimator__batch_size=16,\n",
    "    estimator__verbose=False,\n",
    ")\n",
    "evaluation.update(neural_network=neural_network_results)"
   ]
  },
  {
   "cell_type": "markdown",
   "id": "8381c04c",
   "metadata": {},
   "source": [
    "### Model comparison"
   ]
  },
  {
   "cell_type": "code",
   "execution_count": 6,
   "id": "0c593121",
   "metadata": {},
   "outputs": [
    {
     "data": {
      "text/html": [
       "<div>\n",
       "<style scoped>\n",
       "    .dataframe tbody tr th:only-of-type {\n",
       "        vertical-align: middle;\n",
       "    }\n",
       "\n",
       "    .dataframe tbody tr th {\n",
       "        vertical-align: top;\n",
       "    }\n",
       "\n",
       "    .dataframe thead th {\n",
       "        text-align: right;\n",
       "    }\n",
       "</style>\n",
       "<table border=\"1\" class=\"dataframe\">\n",
       "  <thead>\n",
       "    <tr style=\"text-align: right;\">\n",
       "      <th></th>\n",
       "      <th>linear_regression</th>\n",
       "      <th>neural_network</th>\n",
       "    </tr>\n",
       "  </thead>\n",
       "  <tbody>\n",
       "    <tr>\n",
       "      <th>R2_train</th>\n",
       "      <td>0.979486</td>\n",
       "      <td>0.979483</td>\n",
       "    </tr>\n",
       "    <tr>\n",
       "      <th>MSE_train</th>\n",
       "      <td>117.161455</td>\n",
       "      <td>117.179690</td>\n",
       "    </tr>\n",
       "    <tr>\n",
       "      <th>MAE_train</th>\n",
       "      <td>8.751467</td>\n",
       "      <td>8.747586</td>\n",
       "    </tr>\n",
       "    <tr>\n",
       "      <th>R2_test</th>\n",
       "      <td>0.990758</td>\n",
       "      <td>0.990780</td>\n",
       "    </tr>\n",
       "    <tr>\n",
       "      <th>MSE_test</th>\n",
       "      <td>98.884786</td>\n",
       "      <td>98.645270</td>\n",
       "    </tr>\n",
       "    <tr>\n",
       "      <th>MAE_test</th>\n",
       "      <td>7.682903</td>\n",
       "      <td>7.685224</td>\n",
       "    </tr>\n",
       "  </tbody>\n",
       "</table>\n",
       "</div>"
      ],
      "text/plain": [
       "           linear_regression  neural_network\n",
       "R2_train            0.979486        0.979483\n",
       "MSE_train         117.161455      117.179690\n",
       "MAE_train           8.751467        8.747586\n",
       "R2_test             0.990758        0.990780\n",
       "MSE_test           98.884786       98.645270\n",
       "MAE_test            7.682903        7.685224"
      ]
     },
     "execution_count": 6,
     "metadata": {},
     "output_type": "execute_result"
    }
   ],
   "source": [
    "pivoted_evaluation = {\n",
    "    model: {\n",
    "        f\"{metric_type}_{phase}\": value \n",
    "        for phase, metrics in phases.items() \n",
    "        for metric_type, value in metrics.items()\n",
    "    } \n",
    "    for model, phases in evaluation.items() \n",
    "}\n",
    "\n",
    "df_evaluation = pd.DataFrame(pivoted_evaluation)\n",
    "df_evaluation"
   ]
  },
  {
   "cell_type": "code",
   "execution_count": 7,
   "id": "2d5137d4",
   "metadata": {
    "scrolled": false
   },
   "outputs": [
    {
     "data": {
      "image/png": "[encoded data removed]",
      "text/plain": [
       "<Figure size 640x480 with 1 Axes>"
      ]
     },
     "metadata": {},
     "output_type": "display_data"
    }
   ],
   "source": [
    "_ = df_evaluation.loc[[\"R2_train\", \"R2_test\"], :].plot.bar(title=\"Logistic regression vs. neural network\")"
   ]
  },
  {
   "cell_type": "markdown",
   "id": "65369f5f",
   "metadata": {},
   "source": [
    "## Non-linear problem"
   ]
  },
  {
   "cell_type": "code",
   "execution_count": 8,
   "id": "7cbdabb8",
   "metadata": {},
   "outputs": [],
   "source": [
    "X, y = make_regression(**DATA_SETTINGS)\n",
    "y = 1e-4 * y ** 3\n",
    "\n",
    "X_train, X_test, y_train, y_test = train_test_split(X, y, test_size=0.25, shuffle=True)\n",
    "\n",
    "dataset = DataCatalogue(\n",
    "    model_type=ModelType.REGRESSION,\n",
    "    train={\"X\": X_train, \"y\": y_train},\n",
    "    test={\"X\": X_test, \"y\": y_test},\n",
    ")"
   ]
  },
  {
   "cell_type": "code",
   "execution_count": 9,
   "id": "69857d05",
   "metadata": {},
   "outputs": [
    {
     "data": {
      "text/plain": [
       "<matplotlib.collections.PathCollection at 0x17511b010>"
      ]
     },
     "execution_count": 9,
     "metadata": {},
     "output_type": "execute_result"
    },
    {
     "data": {
      "image/png": "[encoded data removed]",
      "text/plain": [
       "<Figure size 640x480 with 1 Axes>"
      ]
     },
     "metadata": {},
     "output_type": "display_data"
    }
   ],
   "source": [
    "plt.scatter(X[:, 1], y)"
   ]
  },
  {
   "cell_type": "markdown",
   "id": "c3854cbb",
   "metadata": {},
   "source": [
    "### Logistic regression"
   ]
  },
  {
   "cell_type": "code",
   "execution_count": 10,
   "id": "d5f5cb72",
   "metadata": {},
   "outputs": [],
   "source": [
    "evaluation = {}\n",
    "\n",
    "linear_regression_results = fit_and_evaluate(\n",
    "    LinearRegression(), \n",
    "    dataset,\n",
    ")\n",
    "evaluation.update(linear_regression=linear_regression_results)"
   ]
  },
  {
   "cell_type": "markdown",
   "id": "d5182fa4",
   "metadata": {},
   "source": [
    "### Dllib Neural network"
   ]
  },
  {
   "cell_type": "code",
   "execution_count": 11,
   "id": "a86d4d15",
   "metadata": {},
   "outputs": [],
   "source": [
    "nn = SequentialNN(\n",
    "    layers=[\n",
    "        Linear(input_size=X.shape[1], output_size=16),\n",
    "        ReLu(),\n",
    "        Linear(input_size=16, output_size=1),\n",
    "    ],\n",
    "    loss=MeanSquaredError(),\n",
    "    optimizer=SGD(learning_rate=1e-3)\n",
    ")\n",
    "\n",
    "\n",
    "neural_network_results = fit_and_evaluate(\n",
    "    SklearnRegressionWrapper(nn), \n",
    "    dataset, \n",
    "    estimator__epochs=2000,\n",
    "    estimator__batch_size=16,\n",
    "    estimator__verbose=False,\n",
    ")\n",
    "evaluation.update(neural_network=neural_network_results)"
   ]
  },
  {
   "cell_type": "markdown",
   "id": "83e98982",
   "metadata": {},
   "source": [
    "### Model comparison"
   ]
  },
  {
   "cell_type": "code",
   "execution_count": 12,
   "id": "5b9a150f",
   "metadata": {
    "scrolled": true
   },
   "outputs": [
    {
     "data": {
      "text/html": [
       "<div>\n",
       "<style scoped>\n",
       "    .dataframe tbody tr th:only-of-type {\n",
       "        vertical-align: middle;\n",
       "    }\n",
       "\n",
       "    .dataframe tbody tr th {\n",
       "        vertical-align: top;\n",
       "    }\n",
       "\n",
       "    .dataframe thead th {\n",
       "        text-align: right;\n",
       "    }\n",
       "</style>\n",
       "<table border=\"1\" class=\"dataframe\">\n",
       "  <thead>\n",
       "    <tr style=\"text-align: right;\">\n",
       "      <th></th>\n",
       "      <th>linear_regression</th>\n",
       "      <th>neural_network</th>\n",
       "    </tr>\n",
       "  </thead>\n",
       "  <tbody>\n",
       "    <tr>\n",
       "      <th>R2_train</th>\n",
       "      <td>0.720266</td>\n",
       "      <td>0.997963</td>\n",
       "    </tr>\n",
       "    <tr>\n",
       "      <th>MSE_train</th>\n",
       "      <td>18380.349078</td>\n",
       "      <td>133.833133</td>\n",
       "    </tr>\n",
       "    <tr>\n",
       "      <th>MAE_train</th>\n",
       "      <td>103.544547</td>\n",
       "      <td>6.352305</td>\n",
       "    </tr>\n",
       "    <tr>\n",
       "      <th>R2_test</th>\n",
       "      <td>-0.652847</td>\n",
       "      <td>0.965169</td>\n",
       "    </tr>\n",
       "    <tr>\n",
       "      <th>MSE_test</th>\n",
       "      <td>12474.342908</td>\n",
       "      <td>262.877686</td>\n",
       "    </tr>\n",
       "    <tr>\n",
       "      <th>MAE_test</th>\n",
       "      <td>102.289960</td>\n",
       "      <td>9.652576</td>\n",
       "    </tr>\n",
       "  </tbody>\n",
       "</table>\n",
       "</div>"
      ],
      "text/plain": [
       "           linear_regression  neural_network\n",
       "R2_train            0.720266        0.997963\n",
       "MSE_train       18380.349078      133.833133\n",
       "MAE_train         103.544547        6.352305\n",
       "R2_test            -0.652847        0.965169\n",
       "MSE_test        12474.342908      262.877686\n",
       "MAE_test          102.289960        9.652576"
      ]
     },
     "execution_count": 12,
     "metadata": {},
     "output_type": "execute_result"
    }
   ],
   "source": [
    "pivoted_evaluation = {\n",
    "    model: {\n",
    "        f\"{metric_type}_{phase}\": value \n",
    "        for phase, metrics in phases.items() \n",
    "        for metric_type, value in metrics.items()\n",
    "    } \n",
    "    for model, phases in evaluation.items() \n",
    "}\n",
    "\n",
    "df_evaluation = pd.DataFrame(pivoted_evaluation)\n",
    "df_evaluation"
   ]
  },
  {
   "cell_type": "code",
   "execution_count": 13,
   "id": "65ae2f71",
   "metadata": {},
   "outputs": [
    {
     "data": {
      "image/png": "[encoded data removed]",
      "text/plain": [
       "<Figure size 640x480 with 1 Axes>"
      ]
     },
     "metadata": {},
     "output_type": "display_data"
    }
   ],
   "source": [
    "_ = df_evaluation.loc[[\"R2_train\", \"R2_test\"], :].plot.bar(title=\"Logistic regression vs. neural network\")"
   ]
  },
  {
   "cell_type": "code",
   "execution_count": null,
   "id": "630b6e88",
   "metadata": {},
   "outputs": [],
   "source": []
  }
 ],
 "metadata": {
  "kernelspec": {
   "display_name": "Python 3 (ipykernel)",
   "language": "python",
   "name": "python3"
  },
  "language_info": {
   "codemirror_mode": {
    "name": "ipython",
    "version": 3
   },
   "file_extension": ".py",
   "mimetype": "text/x-python",
   "name": "python",
   "nbconvert_exporter": "python",
   "pygments_lexer": "ipython3",
   "version": "3.10.5"
  }
 },
 "nbformat": 4,
 "nbformat_minor": 5
}
