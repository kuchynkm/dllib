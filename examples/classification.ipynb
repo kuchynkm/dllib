{
 "cells": [
  {
   "cell_type": "markdown",
   "id": "142e6f3a",
   "metadata": {},
   "source": [
    "# DLlib neural network example: classification problem"
   ]
  },
  {
   "cell_type": "code",
   "execution_count": 1,
   "id": "977f6478",
   "metadata": {},
   "outputs": [],
   "source": [
    "%load_ext autoreload\n",
    "%autoreload 2"
   ]
  },
  {
   "cell_type": "code",
   "execution_count": 2,
   "id": "bb90e64d",
   "metadata": {},
   "outputs": [],
   "source": [
    "import numpy as np\n",
    "import pandas as pd\n",
    "from sklearn.linear_model import LogisticRegression\n",
    "from sklearn.datasets import make_classification\n",
    "import matplotlib.pyplot as plt\n",
    "\n",
    "from dllib.metrics.classification import BinaryCrossEntropy\n",
    "from dllib.layers import Linear, Sigmoid, ReLu\n",
    "from dllib.model import SequentialNN\n",
    "from dllib.optimizers import SGD\n",
    "from examples.backend import fit_and_evaluate, DataCatalogue, ModelType, SklearnClassifierWrapper"
   ]
  },
  {
   "cell_type": "markdown",
   "id": "9d1cb4f1",
   "metadata": {},
   "source": [
    "## Breast cancer dataset"
   ]
  },
  {
   "cell_type": "code",
   "execution_count": 3,
   "id": "70f3ccb1",
   "metadata": {},
   "outputs": [],
   "source": [
    "from sklearn.datasets import load_breast_cancer\n",
    "from sklearn.model_selection import train_test_split\n",
    "\n",
    "\n",
    "X, y = load_breast_cancer(return_X_y=True)\n",
    "X_train, X_test, y_train, y_test = train_test_split(X, y, test_size=0.25, shuffle=True)\n",
    "\n",
    "dataset = DataCatalogue(\n",
    "    model_type=ModelType.CLASSIFICATION,\n",
    "    train={\"X\": X_train, \"y\": y_train},\n",
    "    test={\"X\": X_test, \"y\": y_test},\n",
    ")"
   ]
  },
  {
   "cell_type": "markdown",
   "id": "5404f91c",
   "metadata": {},
   "source": [
    "### Logistic regression"
   ]
  },
  {
   "cell_type": "code",
   "execution_count": 4,
   "id": "331b443d",
   "metadata": {},
   "outputs": [],
   "source": [
    "evaluation = {}\n",
    "\n",
    "logistic_regression_results = fit_and_evaluate(\n",
    "    LogisticRegression(), \n",
    "    dataset,\n",
    ")\n",
    "evaluation.update(logistic_regression=logistic_regression_results)"
   ]
  },
  {
   "cell_type": "markdown",
   "id": "c6bbde20",
   "metadata": {},
   "source": [
    "### Dllib Neural network"
   ]
  },
  {
   "cell_type": "code",
   "execution_count": 5,
   "id": "4dbb1858",
   "metadata": {},
   "outputs": [],
   "source": [
    "nn = SequentialNN(\n",
    "    layers=[\n",
    "        Linear(input_size=X.shape[1], output_size=1),\n",
    "        Sigmoid(),\n",
    "    ],\n",
    "    loss=BinaryCrossEntropy(),\n",
    "    optimizer=SGD(learning_rate=1e-2)\n",
    ")\n",
    "\n",
    "\n",
    "neural_network_results = fit_and_evaluate(\n",
    "    SklearnClassifierWrapper(nn), \n",
    "    dataset, \n",
    "    estimator__epochs=2000,\n",
    "    estimator__batch_size=16,\n",
    "    estimator__verbose=False,\n",
    ")\n",
    "evaluation.update(neural_network=neural_network_results)"
   ]
  },
  {
   "cell_type": "markdown",
   "id": "aeccaab3",
   "metadata": {},
   "source": [
    "### Model comparison"
   ]
  },
  {
   "cell_type": "code",
   "execution_count": 6,
   "id": "0c593121",
   "metadata": {},
   "outputs": [
    {
     "data": {
      "text/html": [
       "<div>\n",
       "<style scoped>\n",
       "    .dataframe tbody tr th:only-of-type {\n",
       "        vertical-align: middle;\n",
       "    }\n",
       "\n",
       "    .dataframe tbody tr th {\n",
       "        vertical-align: top;\n",
       "    }\n",
       "\n",
       "    .dataframe thead th {\n",
       "        text-align: right;\n",
       "    }\n",
       "</style>\n",
       "<table border=\"1\" class=\"dataframe\">\n",
       "  <thead>\n",
       "    <tr style=\"text-align: right;\">\n",
       "      <th></th>\n",
       "      <th>logistic_regression</th>\n",
       "      <th>neural_network</th>\n",
       "    </tr>\n",
       "  </thead>\n",
       "  <tbody>\n",
       "    <tr>\n",
       "      <th>ROC-AUC_train</th>\n",
       "      <td>0.996618</td>\n",
       "      <td>0.995335</td>\n",
       "    </tr>\n",
       "    <tr>\n",
       "      <th>accuracy_train</th>\n",
       "      <td>0.983568</td>\n",
       "      <td>0.969484</td>\n",
       "    </tr>\n",
       "    <tr>\n",
       "      <th>ROC-AUC_test</th>\n",
       "      <td>1.000000</td>\n",
       "      <td>0.999566</td>\n",
       "    </tr>\n",
       "    <tr>\n",
       "      <th>accuracy_test</th>\n",
       "      <td>0.993007</td>\n",
       "      <td>0.979021</td>\n",
       "    </tr>\n",
       "  </tbody>\n",
       "</table>\n",
       "</div>"
      ],
      "text/plain": [
       "                logistic_regression  neural_network\n",
       "ROC-AUC_train              0.996618        0.995335\n",
       "accuracy_train             0.983568        0.969484\n",
       "ROC-AUC_test               1.000000        0.999566\n",
       "accuracy_test              0.993007        0.979021"
      ]
     },
     "execution_count": 6,
     "metadata": {},
     "output_type": "execute_result"
    }
   ],
   "source": [
    "pivoted_evaluation = {\n",
    "    model: {\n",
    "        f\"{metric_type}_{phase}\": value \n",
    "        for phase, metrics in phases.items() \n",
    "        for metric_type, value in metrics.items()\n",
    "    } \n",
    "    for model, phases in evaluation.items() \n",
    "}\n",
    "\n",
    "df_evaluation = pd.DataFrame(pivoted_evaluation)\n",
    "df_evaluation"
   ]
  },
  {
   "cell_type": "code",
   "execution_count": 7,
   "id": "2d5137d4",
   "metadata": {
    "scrolled": true
   },
   "outputs": [
    {
     "data": {
      "image/png": "[encoded data removed]",
      "text/plain": [
       "<Figure size 640x480 with 1 Axes>"
      ]
     },
     "metadata": {},
     "output_type": "display_data"
    }
   ],
   "source": [
    "_ = df_evaluation.plot.bar(title=\"Logistic regression vs. neural network\")"
   ]
  },
  {
   "cell_type": "markdown",
   "id": "65369f5f",
   "metadata": {},
   "source": [
    "## Artificial non-linear problem dataset"
   ]
  },
  {
   "cell_type": "code",
   "execution_count": 8,
   "id": "7cbdabb8",
   "metadata": {},
   "outputs": [
    {
     "data": {
      "image/png": "[encoded data removed]",
      "text/plain": [
       "<Figure size 640x480 with 1 Axes>"
      ]
     },
     "metadata": {},
     "output_type": "display_data"
    }
   ],
   "source": [
    "# generate X\n",
    "X = 2 * np.pi * np.random.random(size=(1000, 2))\n",
    "\n",
    "# generate y as a nonlinear function of X columns\n",
    "X_sum = np.sum(X, axis=1)\n",
    "y = (np.sin(X_sum) > 0).astype(int)\n",
    "\n",
    "# y visualization\n",
    "idx = np.argsort(X_sum)\n",
    "plt.plot(X_sum[idx], y[idx])\n",
    "plt.xlabel(\"X0 + X1\")\n",
    "plt.ylabel(\"sin(X0 + X1) > 0\")\n",
    "plt.show()"
   ]
  },
  {
   "cell_type": "code",
   "execution_count": 9,
   "id": "4fef7e16",
   "metadata": {},
   "outputs": [],
   "source": [
    "from sklearn.model_selection import train_test_split\n",
    "\n",
    "X_train, X_test, y_train, y_test = train_test_split(X, y, test_size=0.25)\n",
    "\n",
    "dataset = DataCatalogue(\n",
    "    model_type=ModelType.CLASSIFICATION,\n",
    "    train={\"X\": X_train, \"y\": y_train},\n",
    "    test={\"X\": X_test, \"y\": y_test},\n",
    ")"
   ]
  },
  {
   "cell_type": "markdown",
   "id": "c3854cbb",
   "metadata": {},
   "source": [
    "### Logistic regression"
   ]
  },
  {
   "cell_type": "code",
   "execution_count": 10,
   "id": "d5f5cb72",
   "metadata": {},
   "outputs": [],
   "source": [
    "evaluation = {}\n",
    "\n",
    "logistic_regression_results = fit_and_evaluate(\n",
    "    LogisticRegression(), \n",
    "    dataset,\n",
    ")\n",
    "evaluation.update(logistic_regression=logistic_regression_results)"
   ]
  },
  {
   "cell_type": "markdown",
   "id": "d5182fa4",
   "metadata": {},
   "source": [
    "### Dllib Neural network"
   ]
  },
  {
   "cell_type": "code",
   "execution_count": 11,
   "id": "a86d4d15",
   "metadata": {},
   "outputs": [],
   "source": [
    "nn = SequentialNN(\n",
    "    layers=[\n",
    "        Linear(input_size=X.shape[1], output_size=16),\n",
    "        ReLu(),\n",
    "        Linear(input_size=16, output_size=1),\n",
    "        Sigmoid(),\n",
    "    ],\n",
    "    loss=BinaryCrossEntropy(),\n",
    "    optimizer=SGD(learning_rate=1e-2)\n",
    ")\n",
    "\n",
    "\n",
    "neural_network_results = fit_and_evaluate(\n",
    "    SklearnClassifierWrapper(nn), \n",
    "    dataset, \n",
    "    estimator__epochs=2000,\n",
    "    estimator__batch_size=16,\n",
    "    estimator__verbose=False,\n",
    ")\n",
    "evaluation.update(neural_network=neural_network_results)"
   ]
  },
  {
   "cell_type": "markdown",
   "id": "83e98982",
   "metadata": {},
   "source": [
    "### Model comparison"
   ]
  },
  {
   "cell_type": "code",
   "execution_count": 12,
   "id": "5b9a150f",
   "metadata": {},
   "outputs": [
    {
     "data": {
      "text/html": [
       "<div>\n",
       "<style scoped>\n",
       "    .dataframe tbody tr th:only-of-type {\n",
       "        vertical-align: middle;\n",
       "    }\n",
       "\n",
       "    .dataframe tbody tr th {\n",
       "        vertical-align: top;\n",
       "    }\n",
       "\n",
       "    .dataframe thead th {\n",
       "        text-align: right;\n",
       "    }\n",
       "</style>\n",
       "<table border=\"1\" class=\"dataframe\">\n",
       "  <thead>\n",
       "    <tr style=\"text-align: right;\">\n",
       "      <th></th>\n",
       "      <th>logistic_regression</th>\n",
       "      <th>neural_network</th>\n",
       "    </tr>\n",
       "  </thead>\n",
       "  <tbody>\n",
       "    <tr>\n",
       "      <th>ROC-AUC_train</th>\n",
       "      <td>0.473083</td>\n",
       "      <td>0.999338</td>\n",
       "    </tr>\n",
       "    <tr>\n",
       "      <th>accuracy_train</th>\n",
       "      <td>0.512000</td>\n",
       "      <td>0.986667</td>\n",
       "    </tr>\n",
       "    <tr>\n",
       "      <th>ROC-AUC_test</th>\n",
       "      <td>0.355995</td>\n",
       "      <td>0.999232</td>\n",
       "    </tr>\n",
       "    <tr>\n",
       "      <th>accuracy_test</th>\n",
       "      <td>0.456000</td>\n",
       "      <td>0.988000</td>\n",
       "    </tr>\n",
       "  </tbody>\n",
       "</table>\n",
       "</div>"
      ],
      "text/plain": [
       "                logistic_regression  neural_network\n",
       "ROC-AUC_train              0.473083        0.999338\n",
       "accuracy_train             0.512000        0.986667\n",
       "ROC-AUC_test               0.355995        0.999232\n",
       "accuracy_test              0.456000        0.988000"
      ]
     },
     "execution_count": 12,
     "metadata": {},
     "output_type": "execute_result"
    }
   ],
   "source": [
    "pivoted_evaluation = {\n",
    "    model: {\n",
    "        f\"{metric_type}_{phase}\": value \n",
    "        for phase, metrics in phases.items() \n",
    "        for metric_type, value in metrics.items()\n",
    "    } \n",
    "    for model, phases in evaluation.items() \n",
    "}\n",
    "\n",
    "df_evaluation = pd.DataFrame(pivoted_evaluation)\n",
    "df_evaluation"
   ]
  },
  {
   "cell_type": "code",
   "execution_count": 13,
   "id": "65ae2f71",
   "metadata": {},
   "outputs": [
    {
     "data": {
      "image/png": "[encoded data removed]",
      "text/plain": [
       "<Figure size 640x480 with 1 Axes>"
      ]
     },
     "metadata": {},
     "output_type": "display_data"
    }
   ],
   "source": [
    "_ = df_evaluation.plot.bar(title=\"Logistic regression vs. neural network\")"
   ]
  },
  {
   "cell_type": "code",
   "execution_count": null,
   "id": "b956e0ee",
   "metadata": {},
   "outputs": [],
   "source": []
  }
 ],
 "metadata": {
  "kernelspec": {
   "display_name": "Python 3 (ipykernel)",
   "language": "python",
   "name": "python3"
  },
  "language_info": {
   "codemirror_mode": {
    "name": "ipython",
    "version": 3
   },
   "file_extension": ".py",
   "mimetype": "text/x-python",
   "name": "python",
   "nbconvert_exporter": "python",
   "pygments_lexer": "ipython3",
   "version": "3.10.5"
  }
 },
 "nbformat": 4,
 "nbformat_minor": 5
}
